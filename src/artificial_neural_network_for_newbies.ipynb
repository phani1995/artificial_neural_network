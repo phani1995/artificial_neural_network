{
 "cells": [
  {
   "cell_type": "markdown",
   "metadata": {},
   "source": [
    "# Imports\n",
    "numpy package for array manipulation\n",
    "\n",
    "Matplotlib package to plot certain figures of data\n",
    "\n",
    "Tensorflow package since its the framework we are going to use , getting data, training ,testing and predictions are done using this framework"
   ]
  },
  {
   "cell_type": "code",
   "execution_count": 4,
   "metadata": {},
   "outputs": [
    {
     "name": "stderr",
     "output_type": "stream",
     "text": [
      "C:\\Users\\phani.thontepu\\AppData\\Local\\Continuum\\anaconda3\\lib\\site-packages\\h5py\\__init__.py:36: FutureWarning: Conversion of the second argument of issubdtype from `float` to `np.floating` is deprecated. In future, it will be treated as `np.float64 == np.dtype(float).type`.\n",
      "  from ._conv import register_converters as _register_converters\n"
     ]
    }
   ],
   "source": [
    "import numpy as np\n",
    "import matplotlib.pyplot as plt\n",
    "import tensorflow as tf"
   ]
  },
  {
   "cell_type": "markdown",
   "metadata": {},
   "source": [
    "# Importing the dataset\n",
    "\n",
    "`tf.keras.datasets.mnist` is a module which have a fucntion named `load_data()` which tries to download data and put it in form of tuples of test data and train data"
   ]
  },
  {
   "cell_type": "code",
   "execution_count": 5,
   "metadata": {},
   "outputs": [],
   "source": [
    "mnist = tf.keras.datasets.mnist\n",
    "(X_train,y_train),(X_test,y_test) = mnist.load_data()"
   ]
  },
  {
   "cell_type": "markdown",
   "metadata": {},
   "source": [
    "# Inspecting the data\n",
    "\n",
    "Just to have a overview of the data \n",
    "* we will check the lengths of array \n",
    "* types of objects \n",
    "* visulizing a sample\n",
    "\n",
    "After Execution \n",
    "* There are 60000 training sample images each of 28X28 pixels size and there are 60000 labels for that.\n",
    "* There are 10000 testing sample images each of 28*28 pixels size and there are 10000 lables for that.\n",
    "* Every integer value in y_train tells what is the number that there in that picture.\n",
    "* Verification that the first Image viewed contains ``5`` as numer and first element in the label array is also an five"
   ]
  },
  {
   "cell_type": "code",
   "execution_count": 6,
   "metadata": {},
   "outputs": [
    {
     "name": "stdout",
     "output_type": "stream",
     "text": [
      "Types of Object :-  \n",
      "X_trian <class 'numpy.ndarray'> \n",
      "y_train <class 'numpy.ndarray'> \n",
      "X_test <class 'numpy.ndarray'> \n",
      "y_test <class 'numpy.ndarray'>\n",
      "Shapes of arrays :-  \n",
      "X_trian (60000, 28, 28) \n",
      "y_train (60000,) \n",
      "X_test (10000, 28, 28) \n",
      "y_test (10000,)\n",
      "Checking first ten lables train set :- [5 0 4 1 9 2 1 3 1 4]\n",
      "Checking first ten lables test set:- [7 2 1 0 4 1 4 9 5 9]\n",
      "Visualizing first Image:- \n",
      "\n"
     ]
    },
    {
     "data": {
      "text/plain": [
       "<matplotlib.image.AxesImage at 0xfe64cdacc0>"
      ]
     },
     "execution_count": 6,
     "metadata": {},
     "output_type": "execute_result"
    },
    {
     "data": {
      "image/png": "[encoded data removed]",
      "text/plain": [
       "<Figure size 432x288 with 1 Axes>"
      ]
     },
     "metadata": {},
     "output_type": "display_data"
    }
   ],
   "source": [
    "print('Types of Object :- ','\\nX_trian',type(X_train),'\\ny_train',type(y_train),'\\nX_test',type(X_test),'\\ny_test',type(y_test))\n",
    "print('Shapes of arrays :- ','\\nX_trian',np.shape(X_train),'\\ny_train',np.shape(y_train),'\\nX_test',np.shape(X_test),'\\ny_test',np.shape(y_test))\n",
    "print('Checking first ten lables train set :-',y_train[:10])\n",
    "print('Checking first ten lables test set:-',y_test[:10])\n",
    "print('Visualizing first Image:- \\n')\n",
    "plt.imshow(X_train[0],cmap =plt.cm.binary)"
   ]
  },
  {
   "cell_type": "markdown",
   "metadata": {},
   "source": [
    "# Normalizing the data\n",
    "As a part of preprocessing the data Normalization need to be done\n",
    "normalization is required because\n",
    "* training faster \n",
    "* reduce the chances of getting stuck in local optima\n",
    "* weight decay and Bayesian estimation can be done more conveniently \n",
    "\n",
    "we are using `tf.keras.utils.normalize` fuction to normalize\n",
    "> Note: Normalizing is form of scaling all the inputs to a scale of domain . Standardization or rescaling can also be done insted of normalizing depending upon the problem. Its just we are bringing all the inputs into a scale domain so that the neural network would treat all the inputs with same effect."
   ]
  },
  {
   "cell_type": "code",
   "execution_count": 7,
   "metadata": {},
   "outputs": [],
   "source": [
    "X_train = tf.keras.utils.normalize(X_train,axis = 1)\n",
    "X_test = tf.keras.utils.normalize(X_test,axis = 1)"
   ]
  },
  {
   "cell_type": "markdown",
   "metadata": {},
   "source": [
    "# Initiating a Model\n",
    "Building a artificical neural network model.\n",
    "\n",
    "Line1 : we create a model object from `tf.keras.models.Sequential()` which would give a kearas model object\n",
    "> Note : in the deep learning world neuralnetwork and model both words are interchably used .They mean the same thing"
   ]
  },
  {
   "cell_type": "code",
   "execution_count": 8,
   "metadata": {},
   "outputs": [],
   "source": [
    "model = tf.keras.models.Sequential()"
   ]
  },
  {
   "cell_type": "markdown",
   "metadata": {},
   "source": [
    "# Adding layers to Model\n",
    "A neural network would consit of layers and layers of neurons. One adding one layer after other we create a neural network model. Adding of layers is done using `model.add()` function.\n",
    "\n",
    "Line1 : Adding a layer from `tf.keras.layers.Flatten()` class. Flatten layer is just a line of neurons to the network. A simple line of neurons\n",
    "\n",
    "Line2 : Adding a layer from `tf.keras.layers.Dense()` class. Dense layer is nothing but Fully connected layer where every neuron of this layer is connected to every other nuron of previous layer and next layer. We are using ``rectified linear unit`` as activation function . Activation fucntion is a fuction which takes a value as input and gives a value based on how the function is defined\n",
    "\n",
    "Line3 : Its simliar to line two.\n",
    "\n",
    "Line4 : This is also a dense layer but the activation function is changed. softmax activation function would distribute the propability over the output classes."
   ]
  },
  {
   "cell_type": "code",
   "execution_count": 9,
   "metadata": {},
   "outputs": [],
   "source": [
    "model.add(tf.keras.layers.Flatten())\n",
    "model.add(tf.keras.layers.Dense(128,activation=tf.nn.relu))\n",
    "model.add(tf.keras.layers.Dense(128,activation=tf.nn.relu))\n",
    "model.add(tf.keras.layers.Dense(10,activation=tf.nn.softmax))"
   ]
  },
  {
   "cell_type": "markdown",
   "metadata": {},
   "source": [
    "# Compiling Model\n",
    "\n",
    "Compiling the model of configuring the model with what optimizer to be used, loss function to be used and metrics to be calculated. It also checks the incompactability among layers. Any error while building the model.\n",
    "Here we are using \n",
    "* `adam` optimizer\n",
    "* `sparse_categorical_crossentropy` as objective/loss/cost function\n",
    "* `accuracy` as metric"
   ]
  },
  {
   "cell_type": "code",
   "execution_count": 10,
   "metadata": {},
   "outputs": [],
   "source": [
    "model.compile(optimizer= 'adam',\n",
    "             loss = 'sparse_categorical_crossentropy',\n",
    "             metrics = ['accuracy'])"
   ]
  },
  {
   "cell_type": "markdown",
   "metadata": {},
   "source": [
    "# Training the Model\n",
    "\n",
    "Trainig is the process of tuning the weights of the neural network with the help of trainig data. Forevery epoch mutple iterations of batch sizes are passed through the network and loss is backpropagated through the network.\n",
    "\n",
    "For every epoch:-\n",
    "* Iterations are run (Number of iterations are calculated by iterations = no of train samples / batch size)\n",
    "    \n",
    "    For Every Iteration:- \n",
    "    * A sample of data point of size equivalent to batch size is taken\n",
    "    * This sample is froward propagated through the network. \n",
    "    * loss is calculated according to the loss function\n",
    "    * Backward Propagation takes palce and Weights are adjusted.\n",
    " \n",
    "The above process is done for all epochs and this process is training. We are changing the weights of the model towards attaining a minimum loss value.   "
   ]
  },
  {
   "cell_type": "code",
   "execution_count": null,
   "metadata": {},
   "outputs": [
    {
     "name": "stdout",
     "output_type": "stream",
     "text": [
      "Epoch 1/10\n",
      "60000/60000 [==============================] - 10s 170us/step - loss: 0.2680 - acc: 0.9213\n",
      "Epoch 2/10\n",
      "60000/60000 [==============================] - 9s 158us/step - loss: 0.1079 - acc: 0.9671\n",
      "Epoch 3/10\n",
      "60000/60000 [==============================] - 9s 151us/step - loss: 0.0739 - acc: 0.9766\n",
      "Epoch 4/10\n",
      "60000/60000 [==============================] - 9s 155us/step - loss: 0.0550 - acc: 0.9828\n",
      "Epoch 5/10\n",
      "26720/60000 [============>.................] - ETA: 5s - loss: 0.0365 - acc: 0.9877"
     ]
    }
   ],
   "source": [
    "model.fit(X_train,y_train,epochs=10)"
   ]
  },
  {
   "cell_type": "markdown",
   "metadata": {},
   "source": [
    "# Evaluating the Model\n",
    "\n",
    "Evaluationg is process checking how good is neural network doing with the data it has never seen before. `X_test` is data which neural network have never seen before. It tries to determine the how good its predictions with the `X_test`.<br/>\n",
    "`val_loss` : loss acquired on test data.<br/>\n",
    "`val_acc` : Accuracy on test data"
   ]
  },
  {
   "cell_type": "code",
   "execution_count": null,
   "metadata": {},
   "outputs": [],
   "source": [
    "loss,acc = model.evaluate(X_test,y_test)\n",
    "print('The loss acquired',loss)\n",
    "print('The accuracy attained',acc)"
   ]
  },
  {
   "cell_type": "markdown",
   "metadata": {},
   "source": [
    "# Predicting on Trained Model\n",
    "\n",
    "Now the model is fit for making any kind of predictions.The input to `model.predict()` should be a list. Here `X_test` is used for predictions but any digit image of size 28x28 can be used for predictions."
   ]
  },
  {
   "cell_type": "code",
   "execution_count": 62,
   "metadata": {},
   "outputs": [],
   "source": [
    "predictions = model.predict([X_test])"
   ]
  },
  {
   "cell_type": "markdown",
   "metadata": {},
   "source": [
    "# Predictions\n",
    "\n",
    "`predictions` is an list obtained on trying predict every digit in X_test list. \n",
    "\n",
    "On priniting first element we get an array of ten values. Each value determining the propability of the image being that class.\n",
    "\n",
    "for example, if the first element of preditions list is like this \n",
    "```python \n",
    "[2.32561842e-16 3.39266701e-12 8.58853245e-13 3.40553336e-10\n",
    " 3.20900098e-20 7.71152877e-16 1.18972635e-26 1.00000000e+00\n",
    " 1.45465700e-17 2.35815881e-12]\n",
    "```\n",
    "it means the model thinks ...\n",
    "the propability of image being 1 is 2.32561842e-16 <br/>\n",
    "the propability of image being 2 is 3.39266701e-12 <br/>\n",
    "the propability of image being 3 is 8.58853245e-13 <br/>\n",
    ".<br/>\n",
    ".<br/>\n",
    ".<br/>\n",
    "the propability of image being 7 is 1.00000000e+00 <br/>\n",
    ". <br/>\n",
    ". <br/>\n",
    "`np.argmax()` would return the maximum argument in the list."
   ]
  },
  {
   "cell_type": "code",
   "execution_count": 3,
   "metadata": {},
   "outputs": [
    {
     "ename": "NameError",
     "evalue": "name 'predictions' is not defined",
     "output_type": "error",
     "traceback": [
      "\u001b[1;31m---------------------------------------------------------------------------\u001b[0m",
      "\u001b[1;31mNameError\u001b[0m                                 Traceback (most recent call last)",
      "\u001b[1;32m<ipython-input-3-16330cad435b>\u001b[0m in \u001b[0;36m<module>\u001b[1;34m()\u001b[0m\n\u001b[1;32m----> 1\u001b[1;33m \u001b[0mprint\u001b[0m\u001b[1;33m(\u001b[0m\u001b[0mpredictions\u001b[0m\u001b[1;33m[\u001b[0m\u001b[1;36m0\u001b[0m\u001b[1;33m]\u001b[0m\u001b[1;33m)\u001b[0m\u001b[1;33m\u001b[0m\u001b[0m\n\u001b[0m\u001b[0;32m      2\u001b[0m \u001b[0mprint\u001b[0m\u001b[1;33m(\u001b[0m\u001b[1;34m'The value of prediction is '\u001b[0m\u001b[1;33m,\u001b[0m\u001b[0mnp\u001b[0m\u001b[1;33m.\u001b[0m\u001b[0margmax\u001b[0m\u001b[1;33m(\u001b[0m\u001b[0mpredictions\u001b[0m\u001b[1;33m[\u001b[0m\u001b[1;36m0\u001b[0m\u001b[1;33m]\u001b[0m\u001b[1;33m)\u001b[0m\u001b[1;33m)\u001b[0m\u001b[1;33m\u001b[0m\u001b[0m\n",
      "\u001b[1;31mNameError\u001b[0m: name 'predictions' is not defined"
     ]
    }
   ],
   "source": [
    "print(predictions[0])\n",
    "print('The value of prediction is ',np.argmax(predictions[0]))"
   ]
  },
  {
   "cell_type": "markdown",
   "metadata": {},
   "source": [
    "# Verifying the prediction\n",
    "\n",
    "we cheked the prediction of the first element <br/>\n",
    "Now we are visulizing the first element to check if the prediction is valid.\n",
    "> Note : we are trying to visualize a normalized Image so it might not appear clear as it supposed to be"
   ]
  },
  {
   "cell_type": "code",
   "execution_count": 44,
   "metadata": {},
   "outputs": [
    {
     "data": {
      "text/plain": [
       "<matplotlib.image.AxesImage at 0xfd268cd550>"
      ]
     },
     "execution_count": 44,
     "metadata": {},
     "output_type": "execute_result"
    },
    {
     "data": {
      "image/png": "[encoded data removed]",
      "text/plain": [
       "<Figure size 432x288 with 1 Axes>"
      ]
     },
     "metadata": {},
     "output_type": "display_data"
    }
   ],
   "source": [
    "plt.imshow(X_test[0],cmap = plt.cm.binary)"
   ]
  }
 ],
 "metadata": {
  "kernelspec": {
   "display_name": "Python 3",
   "language": "python",
   "name": "python3"
  },
  "language_info": {
   "codemirror_mode": {
    "name": "ipython",
    "version": 3
   },
   "file_extension": ".py",
   "mimetype": "text/x-python",
   "name": "python",
   "nbconvert_exporter": "python",
   "pygments_lexer": "ipython3",
   "version": "3.6.5"
  }
 },
 "nbformat": 4,
 "nbformat_minor": 2
}
